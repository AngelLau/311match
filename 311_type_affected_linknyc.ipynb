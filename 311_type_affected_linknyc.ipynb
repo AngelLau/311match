{
 "cells": [
  {
   "cell_type": "code",
   "execution_count": 1,
   "metadata": {},
   "outputs": [
    {
     "name": "stdout",
     "output_type": "stream",
     "text": [
      "Populating the interactive namespace from numpy and matplotlib\n"
     ]
    }
   ],
   "source": [
    "import numpy as np\n",
    "import pandas as pd\n",
    "import pylab as pl\n",
    "import os\n",
    "import geopandas as gpd\n",
    "import statsmodels.api as sm\n",
    "import statsmodels.formula.api as smf\n",
    "import datetime as dt\n",
    "from matplotlib import gridspec\n",
    "from wordcloud import WordCloud\n",
    "pd.set_option('display.max_columns', 500)\n",
    "\n",
    "%pylab inline"
   ]
  },
  {
   "cell_type": "code",
   "execution_count": 3,
   "metadata": {
    "scrolled": true
   },
   "outputs": [
    {
     "name": "stderr",
     "output_type": "stream",
     "text": [
      "  % Total    % Received % Xferd  Average Speed   Time    Time     Time  Current\n",
      "                                 Dload  Upload   Total   Spent    Left  Speed\n",
      "\n",
      "  0     0    0     0    0     0      0      0 --:--:-- --:--:-- --:--:--     0\n",
      "  0     0    0     0    0     0      0      0 --:--:-- --:--:-- --:--:--     0\n",
      "100  326k    0  326k    0     0   337k      0 --:--:-- --:--:-- --:--:--  337k\n",
      "'mv' is not recognized as an internal or external command,\n",
      "operable program or batch file.\n"
     ]
    }
   ],
   "source": [
    "# ! curl -O https://data.cityofnewyork.us/resource/3ktt-gd74.csv\n",
    "# ! mv 3ktt-gd74.csv LinkNYC_Location.csv"
   ]
  },
  {
   "cell_type": "code",
   "execution_count": 2,
   "metadata": {},
   "outputs": [
    {
     "name": "stderr",
     "output_type": "stream",
     "text": [
      "  % Total    % Received % Xferd  Average Speed   Time    Time     Time  Current\n",
      "                                 Dload  Upload   Total   Spent    Left  Speed\n",
      "\n",
      "  0     0    0     0    0     0      0      0 --:--:-- --:--:-- --:--:--     0\n",
      "  0     0    0     0    0     0      0      0 --:--:-- --:--:-- --:--:--     0\n",
      "100  391k    0  391k    0     0   404k      0 --:--:-- --:--:-- --:--:--  404k\n",
      "'mv' is not recognized as an internal or external command,\n",
      "operable program or batch file.\n"
     ]
    }
   ],
   "source": [
    "# ! curl -O https://www.dallasopendata.com/resource/56ru-r8vk.csv\n",
    "# ! mv 56ru-r8vk.csv 311.csv"
   ]
  },
  {
   "cell_type": "code",
   "execution_count": 6,
   "metadata": {},
   "outputs": [
    {
     "name": "stdout",
     "output_type": "stream",
     "text": [
      "  % Total    % Received % Xferd  Average Speed   Time    Time     Time  Current\n",
      "                                 Dload  Upload   Total   Spent    Left  Speed\n",
      "100  272k    0  272k    0     0   840k      0 --:--:-- --:--:-- --:--:--  841k\n"
     ]
    }
   ],
   "source": [
    "# ! curl -O https://data.cityofnewyork.us/resource/24un-wiy8.csv\n",
    "# ! mv 24un-wiy8.csv kiosk.csv"
   ]
  },
  {
   "cell_type": "code",
   "execution_count": 4,
   "metadata": {},
   "outputs": [],
   "source": [
    "#linkLocation = pd.read_csv(\"LinkNYC_Location.csv\")\n",
    "#serviceafter = pd.read_csv(\"311.csv\")\n",
    "kiosk = pd.read_csv(\"kiosk.csv\")"
   ]
  },
  {
   "cell_type": "code",
   "execution_count": 5,
   "metadata": {},
   "outputs": [
    {
     "data": {
      "text/html": [
       "<div>\n",
       "<style scoped>\n",
       "    .dataframe tbody tr th:only-of-type {\n",
       "        vertical-align: middle;\n",
       "    }\n",
       "\n",
       "    .dataframe tbody tr th {\n",
       "        vertical-align: top;\n",
       "    }\n",
       "\n",
       "    .dataframe thead th {\n",
       "        text-align: right;\n",
       "    }\n",
       "</style>\n",
       "<table border=\"1\" class=\"dataframe\">\n",
       "  <thead>\n",
       "    <tr style=\"text-align: right;\">\n",
       "      <th></th>\n",
       "      <th>active_date</th>\n",
       "      <th>address</th>\n",
       "      <th>boro</th>\n",
       "      <th>census_tract</th>\n",
       "      <th>city</th>\n",
       "      <th>community_board</th>\n",
       "      <th>corner</th>\n",
       "      <th>council_district</th>\n",
       "      <th>cross_street_1</th>\n",
       "      <th>cross_street_2</th>\n",
       "      <th>install_date</th>\n",
       "      <th>latitude</th>\n",
       "      <th>longitude</th>\n",
       "      <th>nta</th>\n",
       "      <th>nta_name</th>\n",
       "      <th>phone_status</th>\n",
       "      <th>ppt_id</th>\n",
       "      <th>site_id</th>\n",
       "      <th>state</th>\n",
       "      <th>status</th>\n",
       "      <th>tablet_status</th>\n",
       "      <th>wifi_status</th>\n",
       "      <th>zip</th>\n",
       "    </tr>\n",
       "  </thead>\n",
       "  <tbody>\n",
       "    <tr>\n",
       "      <th>0</th>\n",
       "      <td>2017-03-08T00:00:00.000</td>\n",
       "      <td>632 NOSTRAND AVENUE</td>\n",
       "      <td>Brooklyn</td>\n",
       "      <td>315.0</td>\n",
       "      <td>New York</td>\n",
       "      <td>8.0</td>\n",
       "      <td>SW</td>\n",
       "      <td>36.0</td>\n",
       "      <td>DEAN STREET</td>\n",
       "      <td>BERGEN STREET</td>\n",
       "      <td>2017-02-17T00:00:00.000</td>\n",
       "      <td>40.676752</td>\n",
       "      <td>-73.949935</td>\n",
       "      <td>BK61</td>\n",
       "      <td>Crown Heights North</td>\n",
       "      <td>up</td>\n",
       "      <td>127047</td>\n",
       "      <td>bk-08-127047</td>\n",
       "      <td>NY</td>\n",
       "      <td>Link Active!</td>\n",
       "      <td>up</td>\n",
       "      <td>up</td>\n",
       "      <td>11216</td>\n",
       "    </tr>\n",
       "    <tr>\n",
       "      <th>1</th>\n",
       "      <td>2018-01-05T00:00:00.000</td>\n",
       "      <td>41 SACKMAN STREET</td>\n",
       "      <td>Brooklyn</td>\n",
       "      <td>367.0</td>\n",
       "      <td>New York</td>\n",
       "      <td>16.0</td>\n",
       "      <td>SE</td>\n",
       "      <td>37.0</td>\n",
       "      <td>FULTON STREET</td>\n",
       "      <td>HERKIMER STREET</td>\n",
       "      <td>2017-09-17T00:00:00.000</td>\n",
       "      <td>40.677845</td>\n",
       "      <td>-73.905901</td>\n",
       "      <td>BK79</td>\n",
       "      <td>Ocean Hill</td>\n",
       "      <td>up</td>\n",
       "      <td>145930</td>\n",
       "      <td>bk-16-145930</td>\n",
       "      <td>NY</td>\n",
       "      <td>Link Active!</td>\n",
       "      <td>up</td>\n",
       "      <td>up</td>\n",
       "      <td>11233</td>\n",
       "    </tr>\n",
       "    <tr>\n",
       "      <th>2</th>\n",
       "      <td>2018-07-27T00:00:00.000</td>\n",
       "      <td>3723 CHURCH AVENUE</td>\n",
       "      <td>Brooklyn</td>\n",
       "      <td>816.0</td>\n",
       "      <td>New York</td>\n",
       "      <td>17.0</td>\n",
       "      <td>NW</td>\n",
       "      <td>41.0</td>\n",
       "      <td>EAST 37 STREET</td>\n",
       "      <td>EAST 38 STREET</td>\n",
       "      <td>2017-11-10T00:00:00.000</td>\n",
       "      <td>40.651230</td>\n",
       "      <td>-73.942062</td>\n",
       "      <td>BK91</td>\n",
       "      <td>East Flatbush-Farragut</td>\n",
       "      <td>up</td>\n",
       "      <td>146003</td>\n",
       "      <td>bk-17-146003</td>\n",
       "      <td>NY</td>\n",
       "      <td>Link Active!</td>\n",
       "      <td>up</td>\n",
       "      <td>up</td>\n",
       "      <td>11203</td>\n",
       "    </tr>\n",
       "    <tr>\n",
       "      <th>3</th>\n",
       "      <td>2017-06-13T00:00:00.000</td>\n",
       "      <td>111 EAST BURNSIDE AVENUE</td>\n",
       "      <td>Bronx</td>\n",
       "      <td>241.0</td>\n",
       "      <td>New York</td>\n",
       "      <td>5.0</td>\n",
       "      <td>NW</td>\n",
       "      <td>14.0</td>\n",
       "      <td>CRESTON AVENUE</td>\n",
       "      <td>MORRIS AVENUE</td>\n",
       "      <td>2017-04-15T00:00:00.000</td>\n",
       "      <td>40.853028</td>\n",
       "      <td>-73.905076</td>\n",
       "      <td>BX41</td>\n",
       "      <td>Mount Hope</td>\n",
       "      <td>up</td>\n",
       "      <td>111577</td>\n",
       "      <td>bx-05-111577</td>\n",
       "      <td>NY</td>\n",
       "      <td>Link Active!</td>\n",
       "      <td>up</td>\n",
       "      <td>up</td>\n",
       "      <td>10453</td>\n",
       "    </tr>\n",
       "    <tr>\n",
       "      <th>4</th>\n",
       "      <td>2016-07-01T00:00:00.000</td>\n",
       "      <td>2374 JEROME AVENUE</td>\n",
       "      <td>Bronx</td>\n",
       "      <td>239.0</td>\n",
       "      <td>New York</td>\n",
       "      <td>5.0</td>\n",
       "      <td>NE</td>\n",
       "      <td>14.0</td>\n",
       "      <td>EAST 184 STREET</td>\n",
       "      <td>EAST FORDHAM ROAD</td>\n",
       "      <td>2016-06-09T00:00:00.000</td>\n",
       "      <td>40.860630</td>\n",
       "      <td>-73.902369</td>\n",
       "      <td>BX40</td>\n",
       "      <td>Fordham South</td>\n",
       "      <td>up</td>\n",
       "      <td>119606</td>\n",
       "      <td>bx-05-119606</td>\n",
       "      <td>NY</td>\n",
       "      <td>Link Active!</td>\n",
       "      <td>up</td>\n",
       "      <td>up</td>\n",
       "      <td>10468</td>\n",
       "    </tr>\n",
       "  </tbody>\n",
       "</table>\n",
       "</div>"
      ],
      "text/plain": [
       "               active_date                   address      boro  census_tract  \\\n",
       "0  2017-03-08T00:00:00.000       632 NOSTRAND AVENUE  Brooklyn         315.0   \n",
       "1  2018-01-05T00:00:00.000         41 SACKMAN STREET  Brooklyn         367.0   \n",
       "2  2018-07-27T00:00:00.000        3723 CHURCH AVENUE  Brooklyn         816.0   \n",
       "3  2017-06-13T00:00:00.000  111 EAST BURNSIDE AVENUE     Bronx         241.0   \n",
       "4  2016-07-01T00:00:00.000        2374 JEROME AVENUE     Bronx         239.0   \n",
       "\n",
       "       city  community_board corner  council_district   cross_street_1  \\\n",
       "0  New York              8.0     SW              36.0      DEAN STREET   \n",
       "1  New York             16.0     SE              37.0    FULTON STREET   \n",
       "2  New York             17.0     NW              41.0   EAST 37 STREET   \n",
       "3  New York              5.0     NW              14.0   CRESTON AVENUE   \n",
       "4  New York              5.0     NE              14.0  EAST 184 STREET   \n",
       "\n",
       "      cross_street_2             install_date   latitude  longitude   nta  \\\n",
       "0      BERGEN STREET  2017-02-17T00:00:00.000  40.676752 -73.949935  BK61   \n",
       "1    HERKIMER STREET  2017-09-17T00:00:00.000  40.677845 -73.905901  BK79   \n",
       "2     EAST 38 STREET  2017-11-10T00:00:00.000  40.651230 -73.942062  BK91   \n",
       "3      MORRIS AVENUE  2017-04-15T00:00:00.000  40.853028 -73.905076  BX41   \n",
       "4  EAST FORDHAM ROAD  2016-06-09T00:00:00.000  40.860630 -73.902369  BX40   \n",
       "\n",
       "                 nta_name phone_status  ppt_id       site_id state  \\\n",
       "0     Crown Heights North           up  127047  bk-08-127047    NY   \n",
       "1              Ocean Hill           up  145930  bk-16-145930    NY   \n",
       "2  East Flatbush-Farragut           up  146003  bk-17-146003    NY   \n",
       "3              Mount Hope           up  111577  bx-05-111577    NY   \n",
       "4           Fordham South           up  119606  bx-05-119606    NY   \n",
       "\n",
       "         status tablet_status wifi_status    zip  \n",
       "0  Link Active!            up          up  11216  \n",
       "1  Link Active!            up          up  11233  \n",
       "2  Link Active!            up          up  11203  \n",
       "3  Link Active!            up          up  10453  \n",
       "4  Link Active!            up          up  10468  "
      ]
     },
     "execution_count": 5,
     "metadata": {},
     "output_type": "execute_result"
    }
   ],
   "source": [
    "kiosk.head()"
   ]
  },
  {
   "cell_type": "code",
   "execution_count": 6,
   "metadata": {
    "scrolled": false
   },
   "outputs": [
    {
     "ename": "NameError",
     "evalue": "name 'serviceafter' is not defined",
     "output_type": "error",
     "traceback": [
      "\u001b[1;31m---------------------------------------------------------------------------\u001b[0m",
      "\u001b[1;31mNameError\u001b[0m                                 Traceback (most recent call last)",
      "\u001b[1;32m<ipython-input-6-3df3718ed135>\u001b[0m in \u001b[0;36m<module>\u001b[1;34m\u001b[0m\n\u001b[0;32m      1\u001b[0m \u001b[0mkiosk\u001b[0m\u001b[1;33m[\u001b[0m\u001b[1;34m'active_date'\u001b[0m\u001b[1;33m]\u001b[0m \u001b[1;33m=\u001b[0m \u001b[0mpd\u001b[0m\u001b[1;33m.\u001b[0m\u001b[0mto_datetime\u001b[0m\u001b[1;33m(\u001b[0m\u001b[0mkiosk\u001b[0m\u001b[1;33m[\u001b[0m\u001b[1;34m'active_date'\u001b[0m\u001b[1;33m]\u001b[0m\u001b[1;33m)\u001b[0m\u001b[1;33m\u001b[0m\u001b[1;33m\u001b[0m\u001b[0m\n\u001b[1;32m----> 2\u001b[1;33m \u001b[0mserviceafter\u001b[0m\u001b[1;33m[\u001b[0m\u001b[1;34m'created_date'\u001b[0m\u001b[1;33m]\u001b[0m \u001b[1;33m=\u001b[0m \u001b[0mpd\u001b[0m\u001b[1;33m.\u001b[0m\u001b[0mto_datetime\u001b[0m\u001b[1;33m(\u001b[0m\u001b[0mserviceafter\u001b[0m\u001b[1;33m[\u001b[0m\u001b[1;34m'created_date'\u001b[0m\u001b[1;33m]\u001b[0m\u001b[1;33m)\u001b[0m\u001b[1;33m\u001b[0m\u001b[1;33m\u001b[0m\u001b[0m\n\u001b[0m",
      "\u001b[1;31mNameError\u001b[0m: name 'serviceafter' is not defined"
     ]
    }
   ],
   "source": [
    "kiosk['active_date'] = pd.to_datetime(kiosk['active_date'])\n",
    "serviceafter['created_date'] = pd.to_datetime(serviceafter['created_date'])"
   ]
  },
  {
   "cell_type": "code",
   "execution_count": null,
   "metadata": {
    "scrolled": false
   },
   "outputs": [],
   "source": [
    "kiosk = kiosk[pd.notnull(kiosk['active_date'])]"
   ]
  },
  {
   "cell_type": "code",
   "execution_count": 7,
   "metadata": {
    "scrolled": false
   },
   "outputs": [
    {
     "data": {
      "text/html": [
       "<div>\n",
       "<style scoped>\n",
       "    .dataframe tbody tr th:only-of-type {\n",
       "        vertical-align: middle;\n",
       "    }\n",
       "\n",
       "    .dataframe tbody tr th {\n",
       "        vertical-align: top;\n",
       "    }\n",
       "\n",
       "    .dataframe thead th {\n",
       "        text-align: right;\n",
       "    }\n",
       "</style>\n",
       "<table border=\"1\" class=\"dataframe\">\n",
       "  <thead>\n",
       "    <tr style=\"text-align: right;\">\n",
       "      <th></th>\n",
       "      <th>active_date</th>\n",
       "      <th>address</th>\n",
       "      <th>boro</th>\n",
       "      <th>census_tract</th>\n",
       "      <th>city</th>\n",
       "      <th>community_board</th>\n",
       "      <th>corner</th>\n",
       "      <th>council_district</th>\n",
       "      <th>cross_street_1</th>\n",
       "      <th>cross_street_2</th>\n",
       "      <th>install_date</th>\n",
       "      <th>latitude</th>\n",
       "      <th>longitude</th>\n",
       "      <th>nta</th>\n",
       "      <th>nta_name</th>\n",
       "      <th>phone_status</th>\n",
       "      <th>ppt_id</th>\n",
       "      <th>site_id</th>\n",
       "      <th>state</th>\n",
       "      <th>status</th>\n",
       "      <th>tablet_status</th>\n",
       "      <th>wifi_status</th>\n",
       "      <th>zip</th>\n",
       "    </tr>\n",
       "  </thead>\n",
       "  <tbody>\n",
       "    <tr>\n",
       "      <th>0</th>\n",
       "      <td>2017-03-08</td>\n",
       "      <td>632 NOSTRAND AVENUE</td>\n",
       "      <td>Brooklyn</td>\n",
       "      <td>315.0</td>\n",
       "      <td>New York</td>\n",
       "      <td>8.0</td>\n",
       "      <td>SW</td>\n",
       "      <td>36.0</td>\n",
       "      <td>DEAN STREET</td>\n",
       "      <td>BERGEN STREET</td>\n",
       "      <td>2017-02-17T00:00:00.000</td>\n",
       "      <td>40.676752</td>\n",
       "      <td>-73.949935</td>\n",
       "      <td>BK61</td>\n",
       "      <td>Crown Heights North</td>\n",
       "      <td>up</td>\n",
       "      <td>127047</td>\n",
       "      <td>bk-08-127047</td>\n",
       "      <td>NY</td>\n",
       "      <td>Link Active!</td>\n",
       "      <td>up</td>\n",
       "      <td>up</td>\n",
       "      <td>11216</td>\n",
       "    </tr>\n",
       "    <tr>\n",
       "      <th>1</th>\n",
       "      <td>2018-01-05</td>\n",
       "      <td>41 SACKMAN STREET</td>\n",
       "      <td>Brooklyn</td>\n",
       "      <td>367.0</td>\n",
       "      <td>New York</td>\n",
       "      <td>16.0</td>\n",
       "      <td>SE</td>\n",
       "      <td>37.0</td>\n",
       "      <td>FULTON STREET</td>\n",
       "      <td>HERKIMER STREET</td>\n",
       "      <td>2017-09-17T00:00:00.000</td>\n",
       "      <td>40.677845</td>\n",
       "      <td>-73.905901</td>\n",
       "      <td>BK79</td>\n",
       "      <td>Ocean Hill</td>\n",
       "      <td>up</td>\n",
       "      <td>145930</td>\n",
       "      <td>bk-16-145930</td>\n",
       "      <td>NY</td>\n",
       "      <td>Link Active!</td>\n",
       "      <td>up</td>\n",
       "      <td>up</td>\n",
       "      <td>11233</td>\n",
       "    </tr>\n",
       "    <tr>\n",
       "      <th>2</th>\n",
       "      <td>2018-07-27</td>\n",
       "      <td>3723 CHURCH AVENUE</td>\n",
       "      <td>Brooklyn</td>\n",
       "      <td>816.0</td>\n",
       "      <td>New York</td>\n",
       "      <td>17.0</td>\n",
       "      <td>NW</td>\n",
       "      <td>41.0</td>\n",
       "      <td>EAST 37 STREET</td>\n",
       "      <td>EAST 38 STREET</td>\n",
       "      <td>2017-11-10T00:00:00.000</td>\n",
       "      <td>40.651230</td>\n",
       "      <td>-73.942062</td>\n",
       "      <td>BK91</td>\n",
       "      <td>East Flatbush-Farragut</td>\n",
       "      <td>up</td>\n",
       "      <td>146003</td>\n",
       "      <td>bk-17-146003</td>\n",
       "      <td>NY</td>\n",
       "      <td>Link Active!</td>\n",
       "      <td>up</td>\n",
       "      <td>up</td>\n",
       "      <td>11203</td>\n",
       "    </tr>\n",
       "    <tr>\n",
       "      <th>3</th>\n",
       "      <td>2017-06-13</td>\n",
       "      <td>111 EAST BURNSIDE AVENUE</td>\n",
       "      <td>Bronx</td>\n",
       "      <td>241.0</td>\n",
       "      <td>New York</td>\n",
       "      <td>5.0</td>\n",
       "      <td>NW</td>\n",
       "      <td>14.0</td>\n",
       "      <td>CRESTON AVENUE</td>\n",
       "      <td>MORRIS AVENUE</td>\n",
       "      <td>2017-04-15T00:00:00.000</td>\n",
       "      <td>40.853028</td>\n",
       "      <td>-73.905076</td>\n",
       "      <td>BX41</td>\n",
       "      <td>Mount Hope</td>\n",
       "      <td>up</td>\n",
       "      <td>111577</td>\n",
       "      <td>bx-05-111577</td>\n",
       "      <td>NY</td>\n",
       "      <td>Link Active!</td>\n",
       "      <td>up</td>\n",
       "      <td>up</td>\n",
       "      <td>10453</td>\n",
       "    </tr>\n",
       "    <tr>\n",
       "      <th>4</th>\n",
       "      <td>2016-07-01</td>\n",
       "      <td>2374 JEROME AVENUE</td>\n",
       "      <td>Bronx</td>\n",
       "      <td>239.0</td>\n",
       "      <td>New York</td>\n",
       "      <td>5.0</td>\n",
       "      <td>NE</td>\n",
       "      <td>14.0</td>\n",
       "      <td>EAST 184 STREET</td>\n",
       "      <td>EAST FORDHAM ROAD</td>\n",
       "      <td>2016-06-09T00:00:00.000</td>\n",
       "      <td>40.860630</td>\n",
       "      <td>-73.902369</td>\n",
       "      <td>BX40</td>\n",
       "      <td>Fordham South</td>\n",
       "      <td>up</td>\n",
       "      <td>119606</td>\n",
       "      <td>bx-05-119606</td>\n",
       "      <td>NY</td>\n",
       "      <td>Link Active!</td>\n",
       "      <td>up</td>\n",
       "      <td>up</td>\n",
       "      <td>10468</td>\n",
       "    </tr>\n",
       "  </tbody>\n",
       "</table>\n",
       "</div>"
      ],
      "text/plain": [
       "  active_date                   address      boro  census_tract      city  \\\n",
       "0  2017-03-08       632 NOSTRAND AVENUE  Brooklyn         315.0  New York   \n",
       "1  2018-01-05         41 SACKMAN STREET  Brooklyn         367.0  New York   \n",
       "2  2018-07-27        3723 CHURCH AVENUE  Brooklyn         816.0  New York   \n",
       "3  2017-06-13  111 EAST BURNSIDE AVENUE     Bronx         241.0  New York   \n",
       "4  2016-07-01        2374 JEROME AVENUE     Bronx         239.0  New York   \n",
       "\n",
       "   community_board corner  council_district   cross_street_1  \\\n",
       "0              8.0     SW              36.0      DEAN STREET   \n",
       "1             16.0     SE              37.0    FULTON STREET   \n",
       "2             17.0     NW              41.0   EAST 37 STREET   \n",
       "3              5.0     NW              14.0   CRESTON AVENUE   \n",
       "4              5.0     NE              14.0  EAST 184 STREET   \n",
       "\n",
       "      cross_street_2             install_date   latitude  longitude   nta  \\\n",
       "0      BERGEN STREET  2017-02-17T00:00:00.000  40.676752 -73.949935  BK61   \n",
       "1    HERKIMER STREET  2017-09-17T00:00:00.000  40.677845 -73.905901  BK79   \n",
       "2     EAST 38 STREET  2017-11-10T00:00:00.000  40.651230 -73.942062  BK91   \n",
       "3      MORRIS AVENUE  2017-04-15T00:00:00.000  40.853028 -73.905076  BX41   \n",
       "4  EAST FORDHAM ROAD  2016-06-09T00:00:00.000  40.860630 -73.902369  BX40   \n",
       "\n",
       "                 nta_name phone_status  ppt_id       site_id state  \\\n",
       "0     Crown Heights North           up  127047  bk-08-127047    NY   \n",
       "1              Ocean Hill           up  145930  bk-16-145930    NY   \n",
       "2  East Flatbush-Farragut           up  146003  bk-17-146003    NY   \n",
       "3              Mount Hope           up  111577  bx-05-111577    NY   \n",
       "4           Fordham South           up  119606  bx-05-119606    NY   \n",
       "\n",
       "         status tablet_status wifi_status    zip  \n",
       "0  Link Active!            up          up  11216  \n",
       "1  Link Active!            up          up  11233  \n",
       "2  Link Active!            up          up  11203  \n",
       "3  Link Active!            up          up  10453  \n",
       "4  Link Active!            up          up  10468  "
      ]
     },
     "execution_count": 7,
     "metadata": {},
     "output_type": "execute_result"
    }
   ],
   "source": [
    "kiosk.head()"
   ]
  },
  {
   "cell_type": "code",
   "execution_count": 8,
   "metadata": {},
   "outputs": [
    {
     "data": {
      "text/plain": [
       "{'Bronx', 'Brooklyn', 'Manhattan'}"
      ]
     },
     "execution_count": 8,
     "metadata": {},
     "output_type": "execute_result"
    }
   ],
   "source": [
    "set(kiosk[\"boro\"])"
   ]
  },
  {
   "cell_type": "code",
   "execution_count": 9,
   "metadata": {
    "scrolled": false
   },
   "outputs": [],
   "source": [
    "brooklyn_kiosk = kiosk[kiosk[\"boro\"]==\"Brooklyn\"]\n",
    "bronx_kiosk = kiosk[kiosk[\"boro\"]==\"Bronx\"]\n",
    "manhattan_kiosk = kiosk[kiosk[\"boro\"]==\"Manhattan\"]"
   ]
  },
  {
   "cell_type": "code",
   "execution_count": 10,
   "metadata": {},
   "outputs": [],
   "source": [
    "def minmax(val_list):\n",
    "    min_val = min(val_list)\n",
    "    max_val = max(val_list)\n",
    "\n",
    "    return (min_val, max_val)"
   ]
  },
  {
   "cell_type": "code",
   "execution_count": 11,
   "metadata": {
    "scrolled": true
   },
   "outputs": [
    {
     "name": "stdout",
     "output_type": "stream",
     "text": [
      "(Timestamp('2016-12-05 00:00:00'), Timestamp('2018-07-27 00:00:00'))\n",
      "(Timestamp('2016-05-25 00:00:00'), Timestamp('2018-08-02 00:00:00'))\n",
      "(Timestamp('2016-01-19 00:00:00'), Timestamp('2018-08-01 00:00:00'))\n"
     ]
    }
   ],
   "source": [
    "print(minmax(brooklyn_kiosk.active_date))\n",
    "print(minmax(bronx_kiosk.active_date))\n",
    "print(minmax(manhattan_kiosk.active_date))"
   ]
  },
  {
   "cell_type": "code",
   "execution_count": 83,
   "metadata": {},
   "outputs": [],
   "source": [
    "url = \"https://data.cityofnewyork.us/resource/fhrw-4uyv.json?$where=created_date%20BETWEEN%20%272016-10-01T00:00:00%27%20AND%20%272016-10-31T00:00:00%27\"\n",
    "brooklyn_before = pd.read_json(url)"
   ]
  },
  {
   "cell_type": "code",
   "execution_count": 84,
   "metadata": {},
   "outputs": [],
   "source": [
    "url = \"https://data.cityofnewyork.us/resource/fhrw-4uyv.json?$where=created_date%20BETWEEN%20%272018-09-01T00:00:00%27%20AND%20%272018-09-30T00:00:00%27\"\n",
    "brooklyn_after = pd.read_json(url)"
   ]
  },
  {
   "cell_type": "code",
   "execution_count": 85,
   "metadata": {},
   "outputs": [],
   "source": [
    "brooklyn_before = brooklyn_before[brooklyn_before[\"borough\"]==\"BROOKLYN\"]\n",
    "brooklyn_after = brooklyn_after[brooklyn_after[\"borough\"]==\"BROOKLYN\"]\n",
    "\n",
    "complaint_before = brooklyn_before['complaint_type'].values\n",
    "complaint_after = brooklyn_after['complaint_type'].values"
   ]
  },
  {
   "cell_type": "code",
   "execution_count": 86,
   "metadata": {},
   "outputs": [],
   "source": [
    "complaint_before = str(list(complaint_before))\n",
    "complaint_after = str(list(complaint_after))"
   ]
  },
  {
   "cell_type": "code",
   "execution_count": 87,
   "metadata": {},
   "outputs": [
    {
     "data": {
      "image/png": "[encoded data removed]",
      "text/plain": [
       "<Figure size 432x288 with 1 Axes>"
      ]
     },
     "metadata": {
      "needs_background": "light"
     },
     "output_type": "display_data"
    },
    {
     "data": {
      "text/plain": [
       "<wordcloud.wordcloud.WordCloud at 0x1f8f73230b8>"
      ]
     },
     "execution_count": 87,
     "metadata": {},
     "output_type": "execute_result"
    }
   ],
   "source": [
    "wordcloud = WordCloud(background_color=\"white\",width=1000, height=860, margin=2).generate(complaint_before)\n",
    "plt.imshow(wordcloud)\n",
    "plt.axis(\"off\")\n",
    "plt.show()\n",
    "wordcloud.to_file('brooklyn_before.png')"
   ]
  },
  {
   "cell_type": "code",
   "execution_count": 88,
   "metadata": {},
   "outputs": [
    {
     "data": {
      "image/png": "[encoded data removed]",
      "text/plain": [
       "<Figure size 432x288 with 1 Axes>"
      ]
     },
     "metadata": {
      "needs_background": "light"
     },
     "output_type": "display_data"
    },
    {
     "data": {
      "text/plain": [
       "<wordcloud.wordcloud.WordCloud at 0x1f8f7323b00>"
      ]
     },
     "execution_count": 88,
     "metadata": {},
     "output_type": "execute_result"
    }
   ],
   "source": [
    "wordcloud = WordCloud(background_color=\"white\",width=1000, height=860, margin=2).generate(complaint_after)\n",
    "plt.imshow(wordcloud)\n",
    "plt.axis(\"off\")\n",
    "plt.show()\n",
    "wordcloud.to_file('brooklyn_after.png')"
   ]
  },
  {
   "cell_type": "code",
   "execution_count": 89,
   "metadata": {},
   "outputs": [],
   "source": [
    "url = \"https://data.cityofnewyork.us/resource/fhrw-4uyv.json?$where=created_date%20BETWEEN%20%272016-03-01T00:00:00%27%20AND%20%272016-03-31T00:00:00%27\"\n",
    "bronx_before = pd.read_json(url)"
   ]
  },
  {
   "cell_type": "code",
   "execution_count": 90,
   "metadata": {},
   "outputs": [],
   "source": [
    "url = \"https://data.cityofnewyork.us/resource/fhrw-4uyv.json?$where=created_date%20BETWEEN%20%272018-10-01T00:00:00%27%20AND%20%272018-10-31T00:00:00%27\"\n",
    "bronx_after = pd.read_json(url)"
   ]
  },
  {
   "cell_type": "code",
   "execution_count": 91,
   "metadata": {},
   "outputs": [],
   "source": [
    "bronx_before = bronx_before[bronx_before[\"borough\"]==\"BRONX\"]\n",
    "bronx_after = bronx_after[bronx_after[\"borough\"]==\"BRONX\"]\n",
    "\n",
    "complaint_before = bronx_before['complaint_type'].values\n",
    "complaint_after = bronx_after['complaint_type'].values\n",
    "\n",
    "complaint_before = str(list(complaint_before))\n",
    "complaint_after = str(list(complaint_after))"
   ]
  },
  {
   "cell_type": "code",
   "execution_count": 92,
   "metadata": {},
   "outputs": [
    {
     "data": {
      "image/png": "[encoded data removed]",
      "text/plain": [
       "<Figure size 432x288 with 1 Axes>"
      ]
     },
     "metadata": {
      "needs_background": "light"
     },
     "output_type": "display_data"
    },
    {
     "data": {
      "text/plain": [
       "<wordcloud.wordcloud.WordCloud at 0x1f8f72b5128>"
      ]
     },
     "execution_count": 92,
     "metadata": {},
     "output_type": "execute_result"
    }
   ],
   "source": [
    "wordcloud = WordCloud(background_color=\"white\",width=1000, height=860, margin=2).generate(complaint_before)\n",
    "plt.imshow(wordcloud)\n",
    "plt.axis(\"off\")\n",
    "plt.show()\n",
    "wordcloud.to_file('bronx_before.png')"
   ]
  },
  {
   "cell_type": "code",
   "execution_count": 93,
   "metadata": {},
   "outputs": [
    {
     "data": {
      "image/png": "[encoded data removed]",
      "text/plain": [
       "<Figure size 432x288 with 1 Axes>"
      ]
     },
     "metadata": {
      "needs_background": "light"
     },
     "output_type": "display_data"
    },
    {
     "data": {
      "text/plain": [
       "<wordcloud.wordcloud.WordCloud at 0x1f8f7263ba8>"
      ]
     },
     "execution_count": 93,
     "metadata": {},
     "output_type": "execute_result"
    }
   ],
   "source": [
    "wordcloud = WordCloud(background_color=\"white\",width=1000, height=860, margin=2).generate(complaint_after)\n",
    "plt.imshow(wordcloud)\n",
    "plt.axis(\"off\")\n",
    "plt.show()\n",
    "wordcloud.to_file('bronx_after.png')"
   ]
  },
  {
   "cell_type": "code",
   "execution_count": 94,
   "metadata": {},
   "outputs": [],
   "source": [
    "url = \"https://data.cityofnewyork.us/resource/fhrw-4uyv.json?$where=created_date%20BETWEEN%20%272015-11-01T00:00:00%27%20AND%20%272015-11-30T00:00:00%27\"\n",
    "manhattan_before = pd.read_json(url)\n",
    "\n",
    "url = \"https://data.cityofnewyork.us/resource/fhrw-4uyv.json?$where=created_date%20BETWEEN%20%272018-10-01T00:00:00%27%20AND%20%272018-10-31T00:00:00%27\"\n",
    "manhattan_after = pd.read_json(url)"
   ]
  },
  {
   "cell_type": "code",
   "execution_count": 95,
   "metadata": {},
   "outputs": [],
   "source": [
    "manhattan_before = manhattan_before[manhattan_before[\"borough\"]==\"MANHATTAN\"]\n",
    "manhattan_after = manhattan_after[manhattan_after[\"borough\"]==\"MANHATTAN\"]\n",
    "\n",
    "\n",
    "complaint_before = manhattan_before['complaint_type'].values\n",
    "complaint_after = manhattan_after['complaint_type'].values\n",
    "\n",
    "complaint_before = str(list(complaint_before))\n",
    "complaint_after = str(list(complaint_after))"
   ]
  },
  {
   "cell_type": "code",
   "execution_count": 96,
   "metadata": {},
   "outputs": [
    {
     "data": {
      "image/png": "[encoded data removed]",
      "text/plain": [
       "<Figure size 432x288 with 1 Axes>"
      ]
     },
     "metadata": {
      "needs_background": "light"
     },
     "output_type": "display_data"
    },
    {
     "data": {
      "text/plain": [
       "<wordcloud.wordcloud.WordCloud at 0x1f8f756f9e8>"
      ]
     },
     "execution_count": 96,
     "metadata": {},
     "output_type": "execute_result"
    }
   ],
   "source": [
    "wordcloud = WordCloud(background_color=\"white\",width=1000, height=860, margin=2).generate(complaint_before)\n",
    "plt.imshow(wordcloud)\n",
    "plt.axis(\"off\")\n",
    "plt.show()\n",
    "wordcloud.to_file('manhattan_before.png')"
   ]
  },
  {
   "cell_type": "code",
   "execution_count": 97,
   "metadata": {},
   "outputs": [
    {
     "data": {
      "image/png": "[encoded data removed]",
      "text/plain": [
       "<Figure size 432x288 with 1 Axes>"
      ]
     },
     "metadata": {
      "needs_background": "light"
     },
     "output_type": "display_data"
    },
    {
     "data": {
      "text/plain": [
       "<wordcloud.wordcloud.WordCloud at 0x1f8f7523860>"
      ]
     },
     "execution_count": 97,
     "metadata": {},
     "output_type": "execute_result"
    }
   ],
   "source": [
    "wordcloud = WordCloud(background_color=\"white\",width=1000, height=860, margin=2).generate(complaint_after)\n",
    "plt.imshow(wordcloud)\n",
    "plt.axis(\"off\")\n",
    "plt.show()\n",
    "wordcloud.to_file('manhattan_after.png')"
   ]
  },
  {
   "cell_type": "code",
   "execution_count": null,
   "metadata": {},
   "outputs": [],
   "source": []
  },
  {
   "cell_type": "code",
   "execution_count": null,
   "metadata": {},
   "outputs": [],
   "source": []
  },
  {
   "cell_type": "code",
   "execution_count": 142,
   "metadata": {},
   "outputs": [],
   "source": [
    "service['created_date'] = pd.to_datetime(service['created_date'])"
   ]
  },
  {
   "cell_type": "code",
   "execution_count": 154,
   "metadata": {},
   "outputs": [],
   "source": [
    "brooklyn_before = service[service[\"borough\"]==\"BROOKLYN\"]\n",
    "bronx_before = service[service[\"borough\"]==\"BRONX\"]\n",
    "manhattan_before = service[service[\"borough\"]==\"MANHATTAN\"]"
   ]
  },
  {
   "cell_type": "code",
   "execution_count": 145,
   "metadata": {},
   "outputs": [],
   "source": [
    "#type(brooklyn['created_date'][0])"
   ]
  },
  {
   "cell_type": "code",
   "execution_count": 156,
   "metadata": {},
   "outputs": [],
   "source": [
    "# brooklyn: before 2016-10, after 2018-10\n",
    "brooklyn_before_index = (brooklyn_before['created_date'] >= '2016-01-01') & (brooklyn_before['created_date'] <= '2016-12-31')\n",
    "brooklyn_before = brooklyn_before.loc[brooklyn_before_index]\n",
    "\n",
    "# brooklyn_after_index = (brooklyn['created_date'] >= '2018-09-01 00:00:00') & (brooklyn['created_date'] <= '2019-09-30 00:00:00')\n",
    "# brooklyn_after = brooklyn.loc[brooklyn_after_index]"
   ]
  },
  {
   "cell_type": "code",
   "execution_count": 147,
   "metadata": {},
   "outputs": [],
   "source": [
    "# bronx: before 2016-03, after 2018-10\n",
    "bronx_before_index = (bronx_before['created_date'] >= '2016-03-01 00:00:00') & (bronx_before['created_date'] <= '2016-03-31 00:00:00')\n",
    "bronx_before = bronx_before.loc[bronx_before_index]\n",
    "\n",
    "# bronx_after_index = (bronx['created_date'] >= '2018-10-01 00:00:00') & (bronx['created_date'] <= '201810-31 00:00:00')\n",
    "# bronx_after = bronx.loc[bronx_after_index]"
   ]
  },
  {
   "cell_type": "code",
   "execution_count": 148,
   "metadata": {},
   "outputs": [],
   "source": [
    "# manhattan: before 2015-11, after 2018-10\n",
    "manhattan_before_index = (manhattan_before['created_date'] >= '2015-11-01 00:00:00') & (manhattan_before['created_date'] <= '2015-11-30 00:00:00')\n",
    "manhattan_before = manhattan_before.loc[manhattan_before_index]\n",
    "\n",
    "# manhattan_after_index = (manhattan['created_date'] >= '2018-10-01 00:00:00') & (manhattan['created_date'] <= '2019-10-31 00:00:00')\n",
    "# manhattan_after = manhattan.loc[manhattan_after_index]"
   ]
  },
  {
   "cell_type": "code",
   "execution_count": null,
   "metadata": {},
   "outputs": [],
   "source": []
  },
  {
   "cell_type": "code",
   "execution_count": 42,
   "metadata": {},
   "outputs": [
    {
     "data": {
      "text/plain": [
       "{'APPLIANCE',\n",
       " 'Air Quality',\n",
       " 'Animal Abuse',\n",
       " 'Blocked Driveway',\n",
       " 'Broken Muni Meter',\n",
       " 'Building/Use',\n",
       " 'Bus Stop Shelter Placement',\n",
       " 'Construction',\n",
       " 'Consumer Complaint',\n",
       " 'Curb Condition',\n",
       " 'DOOR/WINDOW',\n",
       " 'Damaged Tree',\n",
       " 'Dead Tree',\n",
       " 'Derelict Bicycle',\n",
       " 'Derelict Vehicle',\n",
       " 'Derelict Vehicles',\n",
       " 'Dirty Conditions',\n",
       " 'ELECTRIC',\n",
       " 'Electrical',\n",
       " 'Elevator',\n",
       " 'FLOORING/STAIRS',\n",
       " 'Food Establishment',\n",
       " 'For Hire Vehicle Complaint',\n",
       " 'GENERAL',\n",
       " 'General Construction/Plumbing',\n",
       " 'Graffiti',\n",
       " 'HEAT/HOT WATER',\n",
       " 'Hazardous Materials',\n",
       " 'Highway Condition',\n",
       " 'Homeless Encampment',\n",
       " 'Illegal Parking',\n",
       " 'Illegal Tree Damage',\n",
       " 'Indoor Air Quality',\n",
       " 'Indoor Sewage',\n",
       " 'Industrial Waste',\n",
       " 'Lead',\n",
       " 'Litter Basket / Request',\n",
       " 'Maintenance or Facility',\n",
       " 'Missed Collection (All Materials)',\n",
       " 'Mold',\n",
       " 'New Tree Request',\n",
       " 'Noise',\n",
       " 'Noise - Commercial',\n",
       " 'Noise - Helicopter',\n",
       " 'Noise - Park',\n",
       " 'Noise - Residential',\n",
       " 'Noise - Street/Sidewalk',\n",
       " 'Noise - Vehicle',\n",
       " 'Non-Emergency Police Matter',\n",
       " 'OUTSIDE BUILDING',\n",
       " 'Other Enforcement',\n",
       " 'Overgrown Tree/Branches',\n",
       " 'PAINT/PLASTER',\n",
       " 'PLUMBING',\n",
       " 'Plumbing',\n",
       " 'Rodent',\n",
       " 'Root/Sewer/Sidewalk Condition',\n",
       " 'SAFETY',\n",
       " 'Sanitation Condition',\n",
       " 'School Maintenance',\n",
       " 'Sewer',\n",
       " 'Sidewalk Condition',\n",
       " 'Standing Water',\n",
       " 'Street Condition',\n",
       " 'Street Light Condition',\n",
       " 'Street Sign - Damaged',\n",
       " 'Street Sign - Dangling',\n",
       " 'Street Sign - Missing',\n",
       " 'Taxi Complaint',\n",
       " 'Traffic Signal Condition',\n",
       " 'UNSANITARY CONDITION',\n",
       " 'Unsanitary Animal Pvt Property',\n",
       " 'Vending',\n",
       " 'WATER LEAK',\n",
       " 'Water Conservation',\n",
       " 'Water System'}"
      ]
     },
     "execution_count": 42,
     "metadata": {},
     "output_type": "execute_result"
    }
   ],
   "source": [
    "set(Location311[\"complaint_type\"])"
   ]
  },
  {
   "cell_type": "code",
   "execution_count": null,
   "metadata": {},
   "outputs": [],
   "source": []
  }
 ],
 "metadata": {
  "kernelspec": {
   "display_name": "Python 3",
   "language": "python",
   "name": "python3"
  },
  "language_info": {
   "codemirror_mode": {
    "name": "ipython",
    "version": 3
   },
   "file_extension": ".py",
   "mimetype": "text/x-python",
   "name": "python",
   "nbconvert_exporter": "python",
   "pygments_lexer": "ipython3",
   "version": "3.6.7"
  }
 },
 "nbformat": 4,
 "nbformat_minor": 2
}
